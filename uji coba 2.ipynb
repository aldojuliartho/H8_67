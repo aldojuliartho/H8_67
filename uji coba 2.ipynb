{
 "cells": [
  {
   "cell_type": "code",
   "execution_count": 3,
   "id": "a15a65e3",
   "metadata": {},
   "outputs": [
    {
     "ename": "SyntaxError",
     "evalue": "invalid syntax (<ipython-input-3-1cccd606c78e>, line 14)",
     "output_type": "error",
     "traceback": [
      "\u001b[1;36m  File \u001b[1;32m\"<ipython-input-3-1cccd606c78e>\"\u001b[1;36m, line \u001b[1;32m14\u001b[0m\n\u001b[1;33m    If x == 1: # expression 2\u001b[0m\n\u001b[1;37m       ^\u001b[0m\n\u001b[1;31mSyntaxError\u001b[0m\u001b[1;31m:\u001b[0m invalid syntax\n"
     ]
    }
   ],
   "source": [
    "x = -1\n",
    "y = 10\n",
    "\n",
    "if x >= 1: # expresion 1\n",
    "    print('benar') # statement 1\n",
    "    print('...') # statement 2\n",
    "    print('...') # statement 3\n",
    "    \n",
    "    if y ==10: # expression 2\n",
    "        print('benar') # statement A\n",
    "        print('...') # statement B\n",
    "        print('...') # statement c\n",
    "\n",
    "        If x == 1: # expression 2\n",
    "            print('ok')# statement 1\n",
    "            \n",
    "print ('something')"
   ]
  },
  {
   "cell_type": "code",
   "execution_count": 12,
   "id": "39f98abd",
   "metadata": {},
   "outputs": [
    {
     "name": "stdout",
     "output_type": "stream",
     "text": [
      "Outer condition is true\n",
      "End of outer condition\n",
      "After outer condition\n"
     ]
    }
   ],
   "source": [
    "if 'foo'in['foo', 'bar', 'baz']: # E1 terpenuhi\n",
    "    print('Outer condition is true') # statement 1 jalan\n",
    "    \n",
    "    if 10>20: # E2 tidak terpenuhi\n",
    "        print('Inner condition') # statement 3 jalan\n",
    "        \n",
    "        print('Between inner conditions') # statement 3 jalan\n",
    "        \n",
    "        if 10<20: # E3 terpenuhi\n",
    "            print('Inner condition 2') # statement 4 jalan\n",
    "\n",
    "            \n",
    "print('End of outer condition') # statement 5 jalan\n",
    "            \n",
    "print('After outer condition') # statement 6 jalan"
   ]
  },
  {
   "cell_type": "code",
   "execution_count": 14,
   "id": "81f66638",
   "metadata": {},
   "outputs": [
    {
     "name": "stdout",
     "output_type": "stream",
     "text": [
      "this1\n"
     ]
    }
   ],
   "source": [
    "y = 100\n",
    "\n",
    "if y == 90: # E1\n",
    "    print('ok')\n",
    "    \n",
    "elif y ==80:\n",
    "    print ('this')\n",
    "    \n",
    "elif y ==100:\n",
    "    print ('this1')\n",
    "    \n",
    "elif y ==20:\n",
    "    print ('this2')\n",
    "    \n",
    "else:\n",
    "    print('not')"
   ]
  },
  {
   "cell_type": "code",
   "execution_count": 18,
   "id": "c866a7bc",
   "metadata": {},
   "outputs": [
    {
     "name": "stdout",
     "output_type": "stream",
     "text": [
      "beli buku\n"
     ]
    }
   ],
   "source": [
    "hargabuku = 2000\n",
    "hargamajalah = 5000\n",
    "uang = 22000\n",
    "\n",
    "if uang > hargabuku:\n",
    "    print(\"beli buku\")\n",
    "elif uang > hargamajalah:\n",
    "    print(\"bei majalah\")\n",
    "else:\n",
    "    print(\"uang tidak cukup\")"
   ]
  },
  {
   "cell_type": "code",
   "execution_count": 20,
   "id": "3a366246",
   "metadata": {},
   "outputs": [
    {
     "name": "stdout",
     "output_type": "stream",
     "text": [
      "uang tidak cukup\n"
     ]
    }
   ],
   "source": [
    "hargabuku = 2000\n",
    "hargamajalah = 5000\n",
    "hargapulpen = 1500\n",
    "uang = 2000\n",
    "\n",
    "if uang > hargabuku: #E 1\n",
    "    print(\"beli buku\")# beli\n",
    "if uang > hargamajalah:#e 1\n",
    "    print(\"bei majalah\")# beli\n",
    "else: # E 2\n",
    "    print(\"uang tidak cukup\")"
   ]
  },
  {
   "cell_type": "code",
   "execution_count": 22,
   "id": "29042bd2",
   "metadata": {},
   "outputs": [
    {
     "name": "stdout",
     "output_type": "stream",
     "text": [
      "Hai Hack\n"
     ]
    }
   ],
   "source": [
    "name = 'Hacktiv8'\n",
    "if name == 'Fred':\n",
    "    print('Hai fred')\n",
    "elif name == 'xander':\n",
    "    print ('Hai xander')\n",
    "elif name == 'Hacktiv8':\n",
    "    print ('Hai Hack')\n",
    "elif name == 'James':\n",
    "    print ('Hai james')\n",
    "else:\n",
    "    print('I dont know')"
   ]
  },
  {
   "cell_type": "code",
   "execution_count": 29,
   "id": "7ce5ec2a",
   "metadata": {},
   "outputs": [
    {
     "name": "stdout",
     "output_type": "stream",
     "text": [
      "Salah\n"
     ]
    }
   ],
   "source": [
    "a = 1\n",
    "b = 2\n",
    "c = 3\n",
    "y = 50\n",
    "\n",
    "x = a+b*c if y == 10 else 'Salah'\n",
    "print (x)"
   ]
  },
  {
   "cell_type": "code",
   "execution_count": 33,
   "id": "abe55e9e",
   "metadata": {},
   "outputs": [
    {
     "name": "stdout",
     "output_type": "stream",
     "text": [
      "aldo\n",
      "james\n"
     ]
    }
   ],
   "source": [
    "x = 2\n",
    "\n",
    "if x == 1:\n",
    "    print('foo')\n",
    "    print('bar')\n",
    "    print('baz')\n",
    "    \n",
    "elif x == 2:\n",
    "    print('aldo')\n",
    "    print('james')\n",
    "\n",
    "else:\n",
    "    print('wrong')\n",
    "    print('denial')"
   ]
  },
  {
   "cell_type": "code",
   "execution_count": 34,
   "id": "f072199a",
   "metadata": {},
   "outputs": [
    {
     "name": "stdout",
     "output_type": "stream",
     "text": [
      "ayo ke pantai\n"
     ]
    }
   ],
   "source": [
    "hujan = False\n",
    "print ('ayo ke', 'pantai' if not hujan else 'dirumah aja')"
   ]
  },
  {
   "cell_type": "code",
   "execution_count": null,
   "id": "0c747bc6",
   "metadata": {},
   "outputs": [],
   "source": []
  }
 ],
 "metadata": {
  "kernelspec": {
   "display_name": "Python 3",
   "language": "python",
   "name": "python3"
  },
  "language_info": {
   "codemirror_mode": {
    "name": "ipython",
    "version": 3
   },
   "file_extension": ".py",
   "mimetype": "text/x-python",
   "name": "python",
   "nbconvert_exporter": "python",
   "pygments_lexer": "ipython3",
   "version": "3.8.8"
  }
 },
 "nbformat": 4,
 "nbformat_minor": 5
}
